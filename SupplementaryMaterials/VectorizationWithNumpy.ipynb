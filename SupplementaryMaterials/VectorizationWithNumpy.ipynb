{
 "cells": [
  {
   "cell_type": "markdown",
   "id": "db1835c7-61b5-4d1d-924d-68f27d6ebe88",
   "metadata": {},
   "source": [
    "# Comparison of Numpy\n",
    "\n",
    "## No vectorization"
   ]
  },
  {
   "cell_type": "code",
   "execution_count": 8,
   "id": "1633b1e2-2717-4c4f-a8db-ad739e48f4b2",
   "metadata": {},
   "outputs": [
    {
     "name": "stdout",
     "output_type": "stream",
     "text": [
      "CPU times: total: 14min 30s\n",
      "Wall time: 14min 37s\n"
     ]
    }
   ],
   "source": [
    "import numpy as np\n",
    "\n",
    "num_calculations = 1000\n",
    "dim = 1000\n",
    "Q = np.full((dim,dim), 2.0)\n",
    "z = np.full((dim), 10.0)\n",
    "def matrix_vector_product(A,x):\n",
    "    o = np.zeros((dim))\n",
    "    for i in range(len(x)):\n",
    "        for j in range(len(x)):\n",
    "            o[j] =+ A[i,j]*x[j]\n",
    "\n",
    "%time for _ in range(num_calculations): matrix_vector_product(Q,z)"
   ]
  },
  {
   "cell_type": "markdown",
   "id": "bfaf76a2-d656-42f7-9e7a-b6226dd6d76b",
   "metadata": {},
   "source": [
    "## With vectorization"
   ]
  },
  {
   "cell_type": "code",
   "execution_count": 9,
   "id": "bd304688-bd05-4efc-ac1a-23382ba6dbb8",
   "metadata": {},
   "outputs": [
    {
     "name": "stdout",
     "output_type": "stream",
     "text": [
      "CPU times: total: 2.27 s\n",
      "Wall time: 503 ms\n"
     ]
    }
   ],
   "source": [
    "o = np.zeros((dim))\n",
    "%time for _ in range(num_calculations): o = np.dot(Q, z) "
   ]
  },
  {
   "cell_type": "markdown",
   "id": "d865bf0a-c2e7-4934-be58-dacaffbda668",
   "metadata": {},
   "source": [
    "## Improvement from vectorization"
   ]
  },
  {
   "cell_type": "code",
   "execution_count": 10,
   "id": "5f4112f5-4fac-4475-b8f7-8131395b8e29",
   "metadata": {},
   "outputs": [
    {
     "data": {
      "text/plain": [
       "378.26086956521743"
      ]
     },
     "execution_count": 10,
     "metadata": {},
     "output_type": "execute_result"
    }
   ],
   "source": [
    "(14*60+30)/2.3"
   ]
  },
  {
   "cell_type": "code",
   "execution_count": null,
   "id": "b620f57a-423a-4d00-b429-bd4d4934a459",
   "metadata": {},
   "outputs": [],
   "source": []
  }
 ],
 "metadata": {
  "kernelspec": {
   "display_name": "Python 3 (ipykernel)",
   "language": "python",
   "name": "python3"
  },
  "language_info": {
   "codemirror_mode": {
    "name": "ipython",
    "version": 3
   },
   "file_extension": ".py",
   "mimetype": "text/x-python",
   "name": "python",
   "nbconvert_exporter": "python",
   "pygments_lexer": "ipython3",
   "version": "3.12.7"
  }
 },
 "nbformat": 4,
 "nbformat_minor": 5
}
